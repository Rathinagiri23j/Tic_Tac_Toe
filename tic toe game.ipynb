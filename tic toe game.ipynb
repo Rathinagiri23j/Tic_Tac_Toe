{
 "cells": [
  {
   "cell_type": "code",
   "execution_count": null,
   "id": "664e0612",
   "metadata": {},
   "outputs": [],
   "source": []
  },
  {
   "cell_type": "code",
   "execution_count": null,
   "id": "3f39383c",
   "metadata": {},
   "outputs": [],
   "source": [
    "def display_board(board):\n",
    "    print(board[1]+'|'+board[2]+'|'+board[3])\n",
    "    print('- '+'- '+'-')\n",
    "    print(board[4]+'|'+board[5]+'|'+board[6])\n",
    "    print('- '+'- '+'-')\n",
    "    print(board[7]+'|'+board[8]+'|'+board[9])\n",
    "    "
   ]
  },
  {
   "cell_type": "code",
   "execution_count": null,
   "id": "1afd2b37",
   "metadata": {},
   "outputs": [],
   "source": []
  },
  {
   "cell_type": "code",
   "execution_count": null,
   "id": "5a224544",
   "metadata": {},
   "outputs": [],
   "source": []
  },
  {
   "cell_type": "code",
   "execution_count": 31,
   "id": "655be551",
   "metadata": {},
   "outputs": [],
   "source": [
    "def player_input():\n",
    "    \n",
    "    mark = ' '\n",
    "    \n",
    "    while mark != 'X'and mark != 'O':\n",
    "        \n",
    "        mark = input('player 1 choose a mark (x) or (o): ').upper()\n",
    "        \n",
    "    player1 = mark\n",
    "    \n",
    "    if player1 == 'X':\n",
    "        player2 = 'O'\n",
    "        \n",
    "    else: \n",
    "        player2 = 'X'\n",
    "        \n",
    "    return(player1,player2)\n",
    "        \n",
    "    \n",
    "    "
   ]
  },
  {
   "cell_type": "code",
   "execution_count": 32,
   "id": "b401c7d6",
   "metadata": {},
   "outputs": [
    {
     "ename": "KeyboardInterrupt",
     "evalue": "Interrupted by user",
     "output_type": "error",
     "traceback": [
      "\u001b[1;31m---------------------------------------------------------------------------\u001b[0m",
      "\u001b[1;31mKeyboardInterrupt\u001b[0m                         Traceback (most recent call last)",
      "Input \u001b[1;32mIn [32]\u001b[0m, in \u001b[0;36m<cell line: 1>\u001b[1;34m()\u001b[0m\n\u001b[1;32m----> 1\u001b[0m player1_mark,player2_mark \u001b[38;5;241m=\u001b[39m \u001b[43mplayer_input\u001b[49m\u001b[43m(\u001b[49m\u001b[43m)\u001b[49m\n",
      "Input \u001b[1;32mIn [31]\u001b[0m, in \u001b[0;36mplayer_input\u001b[1;34m()\u001b[0m\n\u001b[0;32m      3\u001b[0m mark \u001b[38;5;241m=\u001b[39m \u001b[38;5;124m'\u001b[39m\u001b[38;5;124m \u001b[39m\u001b[38;5;124m'\u001b[39m\n\u001b[0;32m      5\u001b[0m \u001b[38;5;28;01mwhile\u001b[39;00m mark \u001b[38;5;241m!=\u001b[39m \u001b[38;5;124m'\u001b[39m\u001b[38;5;124mX\u001b[39m\u001b[38;5;124m'\u001b[39m\u001b[38;5;129;01mand\u001b[39;00m mark \u001b[38;5;241m!=\u001b[39m \u001b[38;5;124m'\u001b[39m\u001b[38;5;124mO\u001b[39m\u001b[38;5;124m'\u001b[39m:\n\u001b[1;32m----> 7\u001b[0m     mark \u001b[38;5;241m=\u001b[39m \u001b[38;5;28;43minput\u001b[39;49m\u001b[43m(\u001b[49m\u001b[38;5;124;43m'\u001b[39;49m\u001b[38;5;124;43mplayer 1 choose a mark (x) or (o): \u001b[39;49m\u001b[38;5;124;43m'\u001b[39;49m\u001b[43m)\u001b[49m\u001b[38;5;241m.\u001b[39mupper()\n\u001b[0;32m      9\u001b[0m player1 \u001b[38;5;241m=\u001b[39m mark\n\u001b[0;32m     11\u001b[0m \u001b[38;5;28;01mif\u001b[39;00m player1 \u001b[38;5;241m==\u001b[39m \u001b[38;5;124m'\u001b[39m\u001b[38;5;124mX\u001b[39m\u001b[38;5;124m'\u001b[39m:\n",
      "File \u001b[1;32m~\\anaconda3\\lib\\site-packages\\ipykernel\\kernelbase.py:1075\u001b[0m, in \u001b[0;36mKernel.raw_input\u001b[1;34m(self, prompt)\u001b[0m\n\u001b[0;32m   1071\u001b[0m \u001b[38;5;28;01mif\u001b[39;00m \u001b[38;5;129;01mnot\u001b[39;00m \u001b[38;5;28mself\u001b[39m\u001b[38;5;241m.\u001b[39m_allow_stdin:\n\u001b[0;32m   1072\u001b[0m     \u001b[38;5;28;01mraise\u001b[39;00m StdinNotImplementedError(\n\u001b[0;32m   1073\u001b[0m         \u001b[38;5;124m\"\u001b[39m\u001b[38;5;124mraw_input was called, but this frontend does not support input requests.\u001b[39m\u001b[38;5;124m\"\u001b[39m\n\u001b[0;32m   1074\u001b[0m     )\n\u001b[1;32m-> 1075\u001b[0m \u001b[38;5;28;01mreturn\u001b[39;00m \u001b[38;5;28;43mself\u001b[39;49m\u001b[38;5;241;43m.\u001b[39;49m\u001b[43m_input_request\u001b[49m\u001b[43m(\u001b[49m\n\u001b[0;32m   1076\u001b[0m \u001b[43m    \u001b[49m\u001b[38;5;28;43mstr\u001b[39;49m\u001b[43m(\u001b[49m\u001b[43mprompt\u001b[49m\u001b[43m)\u001b[49m\u001b[43m,\u001b[49m\n\u001b[0;32m   1077\u001b[0m \u001b[43m    \u001b[49m\u001b[38;5;28;43mself\u001b[39;49m\u001b[38;5;241;43m.\u001b[39;49m\u001b[43m_parent_ident\u001b[49m\u001b[43m[\u001b[49m\u001b[38;5;124;43m\"\u001b[39;49m\u001b[38;5;124;43mshell\u001b[39;49m\u001b[38;5;124;43m\"\u001b[39;49m\u001b[43m]\u001b[49m\u001b[43m,\u001b[49m\n\u001b[0;32m   1078\u001b[0m \u001b[43m    \u001b[49m\u001b[38;5;28;43mself\u001b[39;49m\u001b[38;5;241;43m.\u001b[39;49m\u001b[43mget_parent\u001b[49m\u001b[43m(\u001b[49m\u001b[38;5;124;43m\"\u001b[39;49m\u001b[38;5;124;43mshell\u001b[39;49m\u001b[38;5;124;43m\"\u001b[39;49m\u001b[43m)\u001b[49m\u001b[43m,\u001b[49m\n\u001b[0;32m   1079\u001b[0m \u001b[43m    \u001b[49m\u001b[43mpassword\u001b[49m\u001b[38;5;241;43m=\u001b[39;49m\u001b[38;5;28;43;01mFalse\u001b[39;49;00m\u001b[43m,\u001b[49m\n\u001b[0;32m   1080\u001b[0m \u001b[43m\u001b[49m\u001b[43m)\u001b[49m\n",
      "File \u001b[1;32m~\\anaconda3\\lib\\site-packages\\ipykernel\\kernelbase.py:1120\u001b[0m, in \u001b[0;36mKernel._input_request\u001b[1;34m(self, prompt, ident, parent, password)\u001b[0m\n\u001b[0;32m   1117\u001b[0m             \u001b[38;5;28;01mbreak\u001b[39;00m\n\u001b[0;32m   1118\u001b[0m \u001b[38;5;28;01mexcept\u001b[39;00m \u001b[38;5;167;01mKeyboardInterrupt\u001b[39;00m:\n\u001b[0;32m   1119\u001b[0m     \u001b[38;5;66;03m# re-raise KeyboardInterrupt, to truncate traceback\u001b[39;00m\n\u001b[1;32m-> 1120\u001b[0m     \u001b[38;5;28;01mraise\u001b[39;00m \u001b[38;5;167;01mKeyboardInterrupt\u001b[39;00m(\u001b[38;5;124m\"\u001b[39m\u001b[38;5;124mInterrupted by user\u001b[39m\u001b[38;5;124m\"\u001b[39m) \u001b[38;5;28;01mfrom\u001b[39;00m \u001b[38;5;28mNone\u001b[39m\n\u001b[0;32m   1121\u001b[0m \u001b[38;5;28;01mexcept\u001b[39;00m \u001b[38;5;167;01mException\u001b[39;00m:\n\u001b[0;32m   1122\u001b[0m     \u001b[38;5;28mself\u001b[39m\u001b[38;5;241m.\u001b[39mlog\u001b[38;5;241m.\u001b[39mwarning(\u001b[38;5;124m\"\u001b[39m\u001b[38;5;124mInvalid Message:\u001b[39m\u001b[38;5;124m\"\u001b[39m, exc_info\u001b[38;5;241m=\u001b[39m\u001b[38;5;28;01mTrue\u001b[39;00m)\n",
      "\u001b[1;31mKeyboardInterrupt\u001b[0m: Interrupted by user"
     ]
    }
   ],
   "source": [
    "player1_mark,player2_mark = player_input()"
   ]
  },
  {
   "cell_type": "code",
   "execution_count": null,
   "id": "6be2fbfe",
   "metadata": {},
   "outputs": [],
   "source": [
    "# step 3 is place marker let's see!\n",
    "\n",
    "def place_mark(mark,board,position):\n",
    "    \n",
    "    board[position] = mark"
   ]
  },
  {
   "cell_type": "code",
   "execution_count": null,
   "id": "808e2421",
   "metadata": {},
   "outputs": [],
   "source": []
  },
  {
   "cell_type": "code",
   "execution_count": null,
   "id": "c9554fed",
   "metadata": {},
   "outputs": [],
   "source": [
    "display_board(test_board)"
   ]
  },
  {
   "cell_type": "code",
   "execution_count": null,
   "id": "5023a4ac",
   "metadata": {},
   "outputs": [],
   "source": [
    "place_mark('#',test_board,1)"
   ]
  },
  {
   "cell_type": "code",
   "execution_count": null,
   "id": "31be4547",
   "metadata": {},
   "outputs": [],
   "source": [
    "display_board(test_board)"
   ]
  },
  {
   "cell_type": "code",
   "execution_count": null,
   "id": "dd3fac41",
   "metadata": {},
   "outputs": [],
   "source": [
    "def win_check(board,mark):\n",
    "    \n",
    "    # check all the rows\n",
    "    # check all the columns\n",
    "    # check 2 posible diagonals\n",
    "    \n",
    "# here we go buddy :)\n",
    "#row check\n",
    "    return((board[1] == mark and board[2] == mark and board[3] ==mark)or \n",
    "     (board[4] == mark and board[5] == mark and board[6] ==mark)or\n",
    "    (board[7] == mark and board[8] == mark and board[9] ==mark)or\n",
    "    (board[1] == mark and board[4] == mark and board[7] ==mark)or\n",
    "    (board[2] == mark and board[5] == mark and board[8] ==mark)or\n",
    "    (board[3] == mark and board[6] == mark and board[9] ==mark)or\n",
    "    (board[1] == mark and board[5] == mark and board[9] ==mark)or\n",
    "    (board[3] == mark and board[5] == mark and board[7] ==mark))\n"
   ]
  },
  {
   "cell_type": "code",
   "execution_count": null,
   "id": "f67862ce",
   "metadata": {},
   "outputs": [],
   "source": [
    "win_check(test_board,'X')"
   ]
  },
  {
   "cell_type": "code",
   "execution_count": null,
   "id": "ab878a9f",
   "metadata": {},
   "outputs": [],
   "source": [
    "# now we have to decide who's gonna play first is it the \"player 1 \" or \"player 2\"\n"
   ]
  },
  {
   "cell_type": "code",
   "execution_count": null,
   "id": "95fa4485",
   "metadata": {},
   "outputs": [],
   "source": [
    "import random\n",
    "\n",
    "def choose_first():\n",
    "    flip = random.randint(0,1)\n",
    "    \n",
    "    if flip == 0:\n",
    "        return \"player 1\"\n",
    "    else:\n",
    "        return \"player 2\""
   ]
  },
  {
   "cell_type": "code",
   "execution_count": null,
   "id": "4b7166e8",
   "metadata": {},
   "outputs": [],
   "source": [
    "choose_first()"
   ]
  },
  {
   "cell_type": "code",
   "execution_count": null,
   "id": "0bf46400",
   "metadata": {},
   "outputs": [],
   "source": [
    "def space_check(board,position):\n",
    "    return board[position] == ' '"
   ]
  },
  {
   "cell_type": "code",
   "execution_count": null,
   "id": "3ff6e738",
   "metadata": {},
   "outputs": [],
   "source": [
    "def full_board_check(board):\n",
    "    for i in range(1,10):\n",
    "        if space_check(board,i):\n",
    "            return False # it means board is not full.\n",
    "        # if the board is full return True!\n",
    "    \n",
    "    return True"
   ]
  },
  {
   "cell_type": "code",
   "execution_count": null,
   "id": "bfab332d",
   "metadata": {},
   "outputs": [],
   "source": [
    "# this is a player choice where player will decide, the index position!"
   ]
  },
  {
   "cell_type": "code",
   "execution_count": null,
   "id": "24968e33",
   "metadata": {},
   "outputs": [],
   "source": [
    "def player_choice(board):\n",
    "    \n",
    "    position = ' '\n",
    "    \n",
    "    while position not in list(range(1,10)) or not space_check(board,position):\n",
    "        \n",
    "        position = int(input('please pick a position(1-9): '))\n",
    "        \n",
    "    return position\n"
   ]
  },
  {
   "cell_type": "code",
   "execution_count": null,
   "id": "1e663900",
   "metadata": {},
   "outputs": [],
   "source": [
    " def replay():\n",
    "    choice = input('do you wanna play again? (y or n): ')\n",
    "    \n",
    "    return choice == 'y'"
   ]
  },
  {
   "cell_type": "code",
   "execution_count": 34,
   "id": "5daa0cc4",
   "metadata": {},
   "outputs": [
    {
     "name": "stdout",
     "output_type": "stream",
     "text": [
      "welcome to tic tac toe game!!!\n",
      "player 1 choose a mark (x) or (o): o\n",
      "player 1 will go first\n",
      "ready to play ? y or n n\n",
      "do you wanna play again? (y or n): n\n"
     ]
    }
   ],
   "source": [
    "# last step!\n",
    "\n",
    "#while loop to keep a game on\n",
    "print('welcome to tic tac toe game!!!')\n",
    "\n",
    "while True: \n",
    "\n",
    "    #play the game\n",
    "    \n",
    "    \n",
    "    # Set everything Up(board, whos first, choose mark 'x' or 'o'\n",
    "    \n",
    "    the_board = [' ']*10\n",
    "    player1_mark,player2_mark = player_input()\n",
    "    turn = choose_first()\n",
    "  \n",
    "    print(turn + ' will go first')\n",
    "    \n",
    "    play_game = input('ready to play ? y or n ')\n",
    "    \n",
    "    if play_game == 'y':\n",
    "        game_on = True\n",
    "    else:\n",
    "        game_on = False\n",
    "        \n",
    "    while game_on:\n",
    "        if turn == 'player 1':\n",
    "            # Show the board\n",
    "            display_board(the_board)\n",
    "            \n",
    "            #Choose a position \n",
    "            position = player_choice(the_board)\n",
    "            \n",
    "            #place a marker on that position \n",
    "            place_mark(player1_mark,the_board,position)\n",
    "            \n",
    "            #check if they won or check is there a tie\n",
    "            if win_check(the_board,player1_mark):\n",
    "                display_board(the_board)\n",
    "                print('player 1 has won!')\n",
    "                game_on = False\n",
    "            \n",
    "            # there is tie\n",
    "            else:\n",
    "                if full_board_check(the_board):\n",
    "                    display_board(the_board)\n",
    "                    print(\"Game is tie\")\n",
    "                    \n",
    "                    game_on = False\n",
    "                else:\n",
    "                    turn = 'player 2'\n",
    "         \n",
    "        \n",
    "        \n",
    "        \n",
    "        else:\n",
    "            \n",
    "            turn == 'player 2'\n",
    "            # Show the board\n",
    "            display_board(the_board)\n",
    "            \n",
    "            #Choose a position \n",
    "            position = player_choice(the_board)\n",
    "            \n",
    "            #place a marker on that position \n",
    "            place_mark(player2_mark,the_board,position)\n",
    "            \n",
    "            #check if they won or check is there a tie\n",
    "            if win_check(the_board,player2_mark):\n",
    "                display_board(the_board)\n",
    "                print('player 2 has won!')\n",
    "                game_on = False\n",
    "            \n",
    "            # there is tie\n",
    "            else:\n",
    "                if full_board_check(the_board):\n",
    "                    display_board(the_board)\n",
    "                    print(\"Game is tie\")\n",
    "                    \n",
    "                    game_on = False\n",
    "                else:\n",
    "                    turn = 'player 1'\n",
    "            \n",
    "            # next player turn.\n",
    "            \n",
    "            \n",
    "            # ____player one turn over_____\n",
    "            \n",
    "            \n",
    "    \n",
    "    \n",
    "    \n",
    "    \n",
    "    \n",
    "    \n",
    "    \n",
    "    \n",
    "    \n",
    "    \n",
    "    \n",
    "    \n",
    "    \n",
    "    if not replay():\n",
    "        break"
   ]
  },
  {
   "cell_type": "code",
   "execution_count": null,
   "id": "f41d3bbb",
   "metadata": {},
   "outputs": [],
   "source": []
  },
  {
   "cell_type": "code",
   "execution_count": null,
   "id": "cea3266d",
   "metadata": {},
   "outputs": [],
   "source": []
  },
  {
   "cell_type": "code",
   "execution_count": null,
   "id": "b83dd97f",
   "metadata": {},
   "outputs": [],
   "source": []
  },
  {
   "cell_type": "code",
   "execution_count": null,
   "id": "0b0fa522",
   "metadata": {},
   "outputs": [],
   "source": []
  },
  {
   "cell_type": "code",
   "execution_count": null,
   "id": "4b78148c",
   "metadata": {},
   "outputs": [],
   "source": []
  },
  {
   "cell_type": "code",
   "execution_count": null,
   "id": "0db4f91e",
   "metadata": {},
   "outputs": [],
   "source": []
  },
  {
   "cell_type": "code",
   "execution_count": null,
   "id": "7597fe5e",
   "metadata": {},
   "outputs": [],
   "source": []
  },
  {
   "cell_type": "code",
   "execution_count": null,
   "id": "715b5a3f",
   "metadata": {},
   "outputs": [],
   "source": []
  }
 ],
 "metadata": {
  "kernelspec": {
   "display_name": "Python 3 (ipykernel)",
   "language": "python",
   "name": "python3"
  },
  "language_info": {
   "codemirror_mode": {
    "name": "ipython",
    "version": 3
   },
   "file_extension": ".py",
   "mimetype": "text/x-python",
   "name": "python",
   "nbconvert_exporter": "python",
   "pygments_lexer": "ipython3",
   "version": "3.9.12"
  }
 },
 "nbformat": 4,
 "nbformat_minor": 5
}
